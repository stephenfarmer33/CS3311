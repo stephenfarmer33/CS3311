{
  "nbformat": 4,
  "nbformat_minor": 0,
  "metadata": {
    "colab": {
      "name": "FinalProject.ipynb",
      "provenance": [],
      "collapsed_sections": [],
      "include_colab_link": true
    },
    "kernelspec": {
      "name": "python3",
      "display_name": "Python 3"
    },
    "language_info": {
      "name": "python"
    }
  },
  "cells": [
    {
      "cell_type": "markdown",
      "metadata": {
        "id": "view-in-github",
        "colab_type": "text"
      },
      "source": [
        "<a href=\"https://colab.research.google.com/github/stephenfarmer33/CS3311/blob/main/FinalProject.ipynb\" target=\"_parent\"><img src=\"https://colab.research.google.com/assets/colab-badge.svg\" alt=\"Open In Colab\"/></a>"
      ]
    },
    {
      "cell_type": "code",
      "metadata": {
        "id": "eqZj4mEzQs2j",
        "colab": {
          "base_uri": "https://localhost:8080/",
          "height": 357
        },
        "outputId": "0b81f2ee-f4cb-46f3-9ea7-1adbd561c235"
      },
      "source": [
        "import os\n",
        "#import xlrd\n",
        "from collections import namedtuple\n",
        "import pandas as pd\n",
        "import sys\n",
        "\n",
        "def valid_extension(file_name):\n",
        "  valid_ext = {'pdf', 'xlsx', 'docx', 'doc', 'csv', 'xls'}\n",
        "  ext = file_name.split(\".\")\n",
        "  return len(ext) == 2 and ext[1] in valid_ext \n",
        "\n",
        "def valid_content(file_name, file_type):\n",
        "  if file_type in {\"xlsx\"}:\n",
        "    # sample code for opening an excel file\n",
        "    # Open the Workbook\n",
        "    workbook = pd.read_excel(file_name, header = 4)\n",
        "\n",
        "    # Valid Columns for the Data\n",
        "    valid_columns = [\"Project Title\", \"Activity Title\", \"Strategy\", \"Activity\", \"Activity Description\", \"Output\", \"Short-Term Outcome\", \"Timeline\", \"Status\", \"Successes\", \"Challenges\", \"CDC Program Support Needed\"]\n",
        "    # Iterate through Excel sheet and check if given data matches correct data\n",
        "    for i in range(0,12):\n",
        "        try:\n",
        "          if not (workbook.iat[0,i] == valid_columns[i]):\n",
        "              return False\n",
        "        except IndexError:\n",
        "          return False\n",
        "\n",
        "  return True  \n",
        "  \n",
        "  #if file_type in {\"xlsx\"}: \n",
        "    # sample code for opening an excel file\n",
        "    # Open the Workbook\n",
        "    #workbook = xlrd.open_workbook(file_name)\n",
        "\n",
        "    # Open the worksheet\n",
        "    #worksheet = workbook.sheet_by_index(0)\n",
        "\n",
        "    # Iterate the rows and columns\n",
        "    #for i in range(0, 5):\n",
        "    #    for j in range(0, 3):\n",
        "    #        # Print the cell values with tab space\n",
        "    #        print(worksheet.cell_value(i, j), end='\\t')\n",
        "    #    print('')\n",
        "\n",
        "    # TODO implement valid content checking for excel\n",
        "  \n",
        "  #return True\n",
        "\n",
        "\n",
        "def classify_files(path):\n",
        "\n",
        "  valid, invalid_ext, invalid_cont = \"valid\", \"invalid_ext\", \"invalid_cont\"\n",
        "\n",
        "  categories = {\n",
        "      valid : [],\n",
        "      invalid_ext : [],\n",
        "      invalid_cont : []\n",
        "  }\n",
        "\n",
        "  # assumming no sub directories in path, need to detect non files & directories \n",
        "  #file_names = os.listdir(path)\n",
        "  file_names = next(os.walk('.'))[2]\n",
        "  # classify all files in path directory \n",
        "  os.chdir(os.getcwd() + \"\\\\\" + path)\n",
        "  for file_name in file_names:\n",
        "    if not valid_extension(file_name):\n",
        "      categories[invalid_ext].append(file_name)\n",
        "\n",
        "    elif not valid_content(file_name, file_name.split(\".\")[1]):\n",
        "      categories[invalid_cont].append(file_name)\n",
        "    \n",
        "    else:\n",
        "      categories[valid].append(file_name)\n",
        "\n",
        "\n",
        "  print(f\"Valid: {categories[valid]}\")\n",
        "  print(f\"Invalid Extension: {categories[invalid_ext]}\")\n",
        "  print(f\"Invalid Content: {categories[invalid_cont]}\")\n",
        "\n",
        "  return categories\n",
        "\n",
        "\n",
        "# TODO: Parse args from cmd\n",
        "# def main():\n",
        "#     abspath = os.path.abspath(__file__)\n",
        "#     dname = os.path.dirname(abspath)\n",
        "#     os.chdir(dname)\n",
        "#     path = \"Demo\" # need to get path from cmd\n",
        "#     #os.chdir(path)\n",
        "#     classify_files(path)\n",
        "\n",
        "# New CMD Line argument main method\n",
        "def main():\n",
        "    abspath = os.path.abspath(__file__)\n",
        "    dname = os.path.dirname(abspath)\n",
        "    os.chdir(dname)\n",
        "    paths = sys.argv\n",
        "    print(paths)\n",
        "    #os.chdir(path)\n",
        "    for path in paths[1:]:\n",
        "      classify_files(path)\n",
        "\n",
        "if __name__ == \"__main__\":\n",
        "    main()\n",
        "\n",
        "\n",
        "\n",
        "\n",
        "\n"
      ],
      "execution_count": null,
      "outputs": [
        {
          "output_type": "error",
          "ename": "NameError",
          "evalue": "ignored",
          "traceback": [
            "\u001b[0;31m---------------------------------------------------------------------------\u001b[0m",
            "\u001b[0;31mNameError\u001b[0m                                 Traceback (most recent call last)",
            "\u001b[0;32m<ipython-input-3-163ccb7ed9ba>\u001b[0m in \u001b[0;36m<module>\u001b[0;34m()\u001b[0m\n\u001b[1;32m    101\u001b[0m \u001b[0;34m\u001b[0m\u001b[0m\n\u001b[1;32m    102\u001b[0m \u001b[0;32mif\u001b[0m \u001b[0m__name__\u001b[0m \u001b[0;34m==\u001b[0m \u001b[0;34m\"__main__\"\u001b[0m\u001b[0;34m:\u001b[0m\u001b[0;34m\u001b[0m\u001b[0;34m\u001b[0m\u001b[0m\n\u001b[0;32m--> 103\u001b[0;31m     \u001b[0mmain\u001b[0m\u001b[0;34m(\u001b[0m\u001b[0;34m)\u001b[0m\u001b[0;34m\u001b[0m\u001b[0;34m\u001b[0m\u001b[0m\n\u001b[0m\u001b[1;32m    104\u001b[0m \u001b[0;34m\u001b[0m\u001b[0m\n\u001b[1;32m    105\u001b[0m \u001b[0;34m\u001b[0m\u001b[0m\n",
            "\u001b[0;32m<ipython-input-3-163ccb7ed9ba>\u001b[0m in \u001b[0;36mmain\u001b[0;34m()\u001b[0m\n\u001b[1;32m     83\u001b[0m \u001b[0;31m# TODO: Parse args from cmd\u001b[0m\u001b[0;34m\u001b[0m\u001b[0;34m\u001b[0m\u001b[0;34m\u001b[0m\u001b[0m\n\u001b[1;32m     84\u001b[0m \u001b[0;32mdef\u001b[0m \u001b[0mmain\u001b[0m\u001b[0;34m(\u001b[0m\u001b[0;34m)\u001b[0m\u001b[0;34m:\u001b[0m\u001b[0;34m\u001b[0m\u001b[0;34m\u001b[0m\u001b[0m\n\u001b[0;32m---> 85\u001b[0;31m     \u001b[0mabspath\u001b[0m \u001b[0;34m=\u001b[0m \u001b[0mos\u001b[0m\u001b[0;34m.\u001b[0m\u001b[0mpath\u001b[0m\u001b[0;34m.\u001b[0m\u001b[0mabspath\u001b[0m\u001b[0;34m(\u001b[0m\u001b[0m__file__\u001b[0m\u001b[0;34m)\u001b[0m\u001b[0;34m\u001b[0m\u001b[0;34m\u001b[0m\u001b[0m\n\u001b[0m\u001b[1;32m     86\u001b[0m     \u001b[0mdname\u001b[0m \u001b[0;34m=\u001b[0m \u001b[0mos\u001b[0m\u001b[0;34m.\u001b[0m\u001b[0mpath\u001b[0m\u001b[0;34m.\u001b[0m\u001b[0mdirname\u001b[0m\u001b[0;34m(\u001b[0m\u001b[0mabspath\u001b[0m\u001b[0;34m)\u001b[0m\u001b[0;34m\u001b[0m\u001b[0;34m\u001b[0m\u001b[0m\n\u001b[1;32m     87\u001b[0m     \u001b[0mos\u001b[0m\u001b[0;34m.\u001b[0m\u001b[0mchdir\u001b[0m\u001b[0;34m(\u001b[0m\u001b[0mdname\u001b[0m\u001b[0;34m)\u001b[0m\u001b[0;34m\u001b[0m\u001b[0;34m\u001b[0m\u001b[0m\n",
            "\u001b[0;31mNameError\u001b[0m: name '__file__' is not defined"
          ]
        }
      ]
    }
  ]
}